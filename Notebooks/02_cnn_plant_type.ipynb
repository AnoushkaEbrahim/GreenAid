{
 "cells": [
  {
   "cell_type": "markdown",
   "id": "57ed3759-0409-4866-9e55-e16723bc4f34",
   "metadata": {},
   "source": [
    "## MODEL 2 - 🌿✨ Plant Type Detection using CNN – Model Summary\n",
    "In this section, we built a Convolutional Neural Network (CNN) model to identify the type of plant from an image of its leaf. This is the first step in our complete plant disease detection pipeline – before we can detect diseases, we need to know what plant we’re dealing with! 🌱🧠\n",
    "\n",
    "🧩 Model Goal:\n",
    "Given an image of a leaf, classify it as one of the following:\n",
    "\n",
    "🥔 Potato\n",
    "\n",
    "🍅 Tomato\n",
    "\n",
    "🫑 Bell Pepper"
   ]
  },
  {
   "cell_type": "markdown",
   "id": "6339d955-b3d4-424c-a72b-8bea52b05ad6",
   "metadata": {},
   "source": [
    "### ✅ Step 1: Importing Required Libraries"
   ]
  },
  {
   "cell_type": "code",
   "execution_count": 19,
   "id": "791f38b7",
   "metadata": {},
   "outputs": [],
   "source": [
    "# Step 1: Import Libraries\n",
    "import tensorflow as tf\n",
    "from tensorflow.keras.preprocessing.image import ImageDataGenerator\n",
    "from tensorflow.keras.models import Sequential\n",
    "from tensorflow.keras.layers import Conv2D, MaxPooling2D, Flatten, Dense, Dropout\n",
    "from tensorflow.keras.callbacks import ModelCheckpoint\n",
    "import numpy as np\n",
    "import matplotlib.pyplot as plt\n",
    "import os\n"
   ]
  },
  {
   "cell_type": "markdown",
   "id": "e2b81a2f-92ef-4ca8-89b9-2c973ef54d0c",
   "metadata": {},
   "source": [
    "### 📂 Step 2: Loading and Preprocessing the Data"
   ]
  },
  {
   "cell_type": "code",
   "execution_count": 20,
   "id": "3267a5ea",
   "metadata": {},
   "outputs": [],
   "source": [
    "# Step 2: Set Paths and Image Parameters\n",
    "img_size = 128\n",
    "batch_size = 32\n",
    "data_dir = r\"C:\\Users\\lenovo\\Desktop\\EU\\sem 2\\ML\\Plant health\\Model redefined\\Notebook1_dataset\"  # we have subfolders: Tomato/, Potato/, Bell_Pepper/\n",
    "\n",
    "# Check the folders exist\n",
    "assert all(os.path.isdir(os.path.join(data_dir, folder)) for folder in [\"Tomato\", \"Potato\", \"Bell_Pepper\"])\n"
   ]
  },
  {
   "cell_type": "markdown",
   "id": "e40935ab-ed8e-4e22-bc2d-16fdb59d6e1c",
   "metadata": {},
   "source": [
    "### 🔀 Step 3: Preprocessing"
   ]
  },
  {
   "cell_type": "code",
   "execution_count": 21,
   "id": "6b3137db",
   "metadata": {},
   "outputs": [
    {
     "name": "stdout",
     "output_type": "stream",
     "text": [
      "Found 17892 images belonging to 3 classes.\n",
      "Found 4472 images belonging to 3 classes.\n",
      "Class names: ['Bell_pepper', 'Potato', 'Tomato']\n"
     ]
    }
   ],
   "source": [
    "datagen = ImageDataGenerator(\n",
    "    rescale=1./255,    #normalization\n",
    "    validation_split=0.2\n",
    ")\n",
    "\n",
    "train_gen = datagen.flow_from_directory(\n",
    "    data_dir,\n",
    "    target_size=(img_size, img_size),\n",
    "    batch_size=batch_size,\n",
    "    class_mode='categorical',  #one hot encode into labels [0,1,0] fpr potato\n",
    "    subset='training'\n",
    ")\n",
    "\n",
    "val_gen = datagen.flow_from_directory(\n",
    "    data_dir,\n",
    "    target_size=(img_size, img_size),\n",
    "    batch_size=batch_size,\n",
    "    class_mode='categorical',\n",
    "    subset='validation'\n",
    ")\n",
    "\n",
    "class_names = list(train_gen.class_indices.keys())\n",
    "print(\"Class names:\", class_names)\n"
   ]
  },
  {
   "cell_type": "markdown",
   "id": "704e4ffc-abc4-4f3c-9142-c59ee0aa2f6c",
   "metadata": {},
   "source": [
    "### 🧠 Step 4: Building the CNN Model"
   ]
  },
  {
   "cell_type": "code",
   "execution_count": 22,
   "id": "cb8cd4c5",
   "metadata": {},
   "outputs": [
    {
     "name": "stdout",
     "output_type": "stream",
     "text": [
      "Model: \"sequential_1\"\n",
      "_________________________________________________________________\n",
      " Layer (type)                Output Shape              Param #   \n",
      "=================================================================\n",
      " conv2d_3 (Conv2D)           (None, 126, 126, 32)      896       \n",
      "                                                                 \n",
      " max_pooling2d_3 (MaxPoolin  (None, 63, 63, 32)        0         \n",
      " g2D)                                                            \n",
      "                                                                 \n",
      " conv2d_4 (Conv2D)           (None, 61, 61, 64)        18496     \n",
      "                                                                 \n",
      " max_pooling2d_4 (MaxPoolin  (None, 30, 30, 64)        0         \n",
      " g2D)                                                            \n",
      "                                                                 \n",
      " conv2d_5 (Conv2D)           (None, 28, 28, 128)       73856     \n",
      "                                                                 \n",
      " max_pooling2d_5 (MaxPoolin  (None, 14, 14, 128)       0         \n",
      " g2D)                                                            \n",
      "                                                                 \n",
      " flatten_1 (Flatten)         (None, 25088)             0         \n",
      "                                                                 \n",
      " dense_2 (Dense)             (None, 128)               3211392   \n",
      "                                                                 \n",
      " dropout_1 (Dropout)         (None, 128)               0         \n",
      "                                                                 \n",
      " dense_3 (Dense)             (None, 3)                 387       \n",
      "                                                                 \n",
      "=================================================================\n",
      "Total params: 3305027 (12.61 MB)\n",
      "Trainable params: 3305027 (12.61 MB)\n",
      "Non-trainable params: 0 (0.00 Byte)\n",
      "_________________________________________________________________\n"
     ]
    }
   ],
   "source": [
    "# Step 4: Build CNN Model\n",
    "model = Sequential([\n",
    "    Conv2D(32, (3, 3), activation='relu', input_shape=(img_size, img_size, 3)),  #gives feature map\n",
    "    MaxPooling2D(2, 2),\n",
    "\n",
    "    Conv2D(64, (3, 3), activation='relu'),\n",
    "    MaxPooling2D(2, 2),\n",
    "\n",
    "    Conv2D(128, (3, 3), activation='relu'),\n",
    "    MaxPooling2D(2, 2),\n",
    "\n",
    "    Flatten(),\n",
    "    Dense(128, activation='relu'),\n",
    "    Dropout(0.3),\n",
    "    Dense(3, activation='softmax')  # 3 plant types\n",
    "])\n",
    "\n",
    "model.compile(optimizer='adam',\n",
    "              loss='categorical_crossentropy',  #measures the loss by comparing the labels\n",
    "              metrics=['accuracy'])  \n",
    "\n",
    "model.summary()\n"
   ]
  },
  {
   "cell_type": "markdown",
   "id": "3b2776d7-39f1-4dcf-93f0-544ff0b8ad38",
   "metadata": {},
   "source": [
    "## 🏋️ Step 5: Training the Model"
   ]
  },
  {
   "cell_type": "code",
   "execution_count": 23,
   "id": "1657dcca",
   "metadata": {},
   "outputs": [
    {
     "name": "stdout",
     "output_type": "stream",
     "text": [
      "Epoch 1/15\n",
      "WARNING:tensorflow:From C:\\Users\\lenovo\\Desktop\\EU\\sem 2\\ML\\Plant health\\plant_tf_env\\lib\\site-packages\\keras\\src\\utils\\tf_utils.py:492: The name tf.ragged.RaggedTensorValue is deprecated. Please use tf.compat.v1.ragged.RaggedTensorValue instead.\n",
      "\n",
      "WARNING:tensorflow:From C:\\Users\\lenovo\\Desktop\\EU\\sem 2\\ML\\Plant health\\plant_tf_env\\lib\\site-packages\\keras\\src\\engine\\base_layer_utils.py:384: The name tf.executing_eagerly_outside_functions is deprecated. Please use tf.compat.v1.executing_eagerly_outside_functions instead.\n",
      "\n",
      "560/560 [==============================] - 382s 673ms/step - loss: 0.3620 - accuracy: 0.8657 - val_loss: 0.3386 - val_accuracy: 0.8875\n",
      "Epoch 2/15\n",
      "560/560 [==============================] - 130s 232ms/step - loss: 0.1909 - accuracy: 0.9283 - val_loss: 0.5685 - val_accuracy: 0.7399\n",
      "Epoch 3/15\n",
      "560/560 [==============================] - 133s 237ms/step - loss: 0.1338 - accuracy: 0.9499 - val_loss: 0.2226 - val_accuracy: 0.9193\n",
      "Epoch 4/15\n",
      "560/560 [==============================] - 329s 587ms/step - loss: 0.0931 - accuracy: 0.9661 - val_loss: 0.1554 - val_accuracy: 0.9463\n",
      "Epoch 5/15\n",
      "560/560 [==============================] - 283s 505ms/step - loss: 0.0720 - accuracy: 0.9740 - val_loss: 0.1730 - val_accuracy: 0.9298\n",
      "Epoch 6/15\n",
      "560/560 [==============================] - 248s 443ms/step - loss: 0.0476 - accuracy: 0.9826 - val_loss: 0.1836 - val_accuracy: 0.9367\n",
      "Epoch 7/15\n",
      "560/560 [==============================] - 256s 456ms/step - loss: 0.0410 - accuracy: 0.9861 - val_loss: 0.1453 - val_accuracy: 0.9535\n",
      "Epoch 8/15\n",
      "560/560 [==============================] - 927s 2s/step - loss: 0.0349 - accuracy: 0.9871 - val_loss: 0.2012 - val_accuracy: 0.9338\n",
      "Epoch 9/15\n",
      "560/560 [==============================] - 293s 522ms/step - loss: 0.0364 - accuracy: 0.9865 - val_loss: 0.1666 - val_accuracy: 0.9387\n",
      "Epoch 10/15\n",
      "560/560 [==============================] - 688s 1s/step - loss: 0.0286 - accuracy: 0.9902 - val_loss: 0.2747 - val_accuracy: 0.9139\n",
      "Epoch 11/15\n",
      "560/560 [==============================] - 245s 437ms/step - loss: 0.0205 - accuracy: 0.9923 - val_loss: 0.1493 - val_accuracy: 0.9613\n",
      "Epoch 12/15\n",
      "560/560 [==============================] - 247s 440ms/step - loss: 0.0171 - accuracy: 0.9943 - val_loss: 0.1869 - val_accuracy: 0.9432\n",
      "Epoch 13/15\n",
      "560/560 [==============================] - 384s 685ms/step - loss: 0.0223 - accuracy: 0.9932 - val_loss: 0.2351 - val_accuracy: 0.9374\n",
      "Epoch 14/15\n",
      "560/560 [==============================] - 446s 796ms/step - loss: 0.0240 - accuracy: 0.9919 - val_loss: 0.1825 - val_accuracy: 0.9470\n",
      "Epoch 15/15\n",
      "560/560 [==============================] - 397s 708ms/step - loss: 0.0192 - accuracy: 0.9937 - val_loss: 0.2347 - val_accuracy: 0.9457\n"
     ]
    }
   ],
   "source": [
    "# Step 5: Train Model and Save Best\n",
    "checkpoint = ModelCheckpoint(\"best_plant_type_model.keras\", save_best_only=True, monitor=\"val_accuracy\", mode=\"max\")\n",
    "\n",
    "history = model.fit(\n",
    "    train_gen,\n",
    "    validation_data=val_gen,\n",
    "    epochs=15,\n",
    "    callbacks=[checkpoint]\n",
    ")\n"
   ]
  },
  {
   "cell_type": "code",
   "execution_count": 24,
   "id": "bd72160b",
   "metadata": {},
   "outputs": [
    {
     "data": {
      "image/png": "[encoded data removed]",
      "text/plain": [
       "<Figure size 640x480 with 1 Axes>"
      ]
     },
     "metadata": {},
     "output_type": "display_data"
    },
    {
     "data": {
      "image/png": "[encoded data removed]",
      "text/plain": [
       "<Figure size 640x480 with 1 Axes>"
      ]
     },
     "metadata": {},
     "output_type": "display_data"
    }
   ],
   "source": [
    "# Step 6: Plot Accuracy & Loss\n",
    "plt.plot(history.history['accuracy'], label='train acc')\n",
    "plt.plot(history.history['val_accuracy'], label='val acc')\n",
    "plt.title('Accuracy')\n",
    "plt.legend()\n",
    "plt.show()\n",
    "\n",
    "plt.plot(history.history['loss'], label='train loss')\n",
    "plt.plot(history.history['val_loss'], label='val loss')\n",
    "plt.title('Loss')\n",
    "plt.legend()\n",
    "plt.show()\n"
   ]
  },
  {
   "cell_type": "code",
   "execution_count": 25,
   "id": "4ce97a95",
   "metadata": {},
   "outputs": [
    {
     "name": "stdout",
     "output_type": "stream",
     "text": [
      "1/1 [==============================] - 0s 332ms/step\n",
      "Predicted Plant Type: Potato (0.96)\n"
     ]
    },
    {
     "data": {
      "text/plain": [
       "'Potato'"
      ]
     },
     "execution_count": 25,
     "metadata": {},
     "output_type": "execute_result"
    }
   ],
   "source": [
    "from tensorflow.keras.preprocessing import image\n",
    "import numpy as np\n",
    "\n",
    "def predict_plant_type(img_path):\n",
    "    img = image.load_img(img_path, target_size=(img_size, img_size))\n",
    "    img_array = image.img_to_array(img) / 255.0\n",
    "    img_array = np.expand_dims(img_array, axis=0)\n",
    "    \n",
    "    prediction = model.predict(img_array)\n",
    "    predicted_class = class_names[np.argmax(prediction)]\n",
    "    confidence = np.max(prediction)\n",
    "    \n",
    "    print(f\"Predicted Plant Type: {predicted_class} ({confidence:.2f})\")\n",
    "    return predicted_class\n",
    "\n",
    "# 🔍 Example usage with your image:\n",
    "predict_plant_type(r\"C:\\Users\\lenovo\\Desktop\\EU\\sem 2\\ML\\Testing_img\\potato.jpg\")"
   ]
  },
  {
   "cell_type": "markdown",
   "id": "a672c592-9618-4cb4-aba6-eb5f29300adb",
   "metadata": {},
   "source": [
    "## 🌟 Final Model Performance Summary 🌟\n",
    "Our CNN model for plant type detection (Potato, Tomato, Bell Pepper) achieved good performance.\n",
    "\n",
    "Training Accuracy: Peaked at 99.74%\n",
    "\n",
    "Validation Accuracy: Remained strong around 94–96%\n",
    "\n",
    "Some increase in validation loss in later epochs hints at slight overfitting, but it did not significantly hurt accuracy.\n",
    "\n",
    "The model is highly confident and consistent in distinguishing between different plant types using leaf images. 🍅🥔🫑"
   ]
  },
  {
   "cell_type": "code",
   "execution_count": null,
   "id": "755ac324-0259-4485-9fb9-942ccbcb4ca8",
   "metadata": {},
   "outputs": [],
   "source": []
  }
 ],
 "metadata": {
  "kernelspec": {
   "display_name": "Python 3 (ipykernel)",
   "language": "python",
   "name": "python3"
  },
  "language_info": {
   "codemirror_mode": {
    "name": "ipython",
    "version": 3
   },
   "file_extension": ".py",
   "mimetype": "text/x-python",
   "name": "python",
   "nbconvert_exporter": "python",
   "pygments_lexer": "ipython3",
   "version": "3.12.10"
  }
 },
 "nbformat": 4,
 "nbformat_minor": 5
}
